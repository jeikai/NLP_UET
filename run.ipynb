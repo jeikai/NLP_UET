{
 "cells": [
  {
   "cell_type": "code",
   "execution_count": null,
   "outputs": [],
   "source": [
    "!apt-get update -y"
   ],
   "metadata": {
    "collapsed": false
   },
   "id": "63bfeba3cec3456e"
  },
  {
   "cell_type": "code",
   "execution_count": null,
   "outputs": [],
   "source": [
    "!apt-get install python3.8 python3.8-distutils"
   ],
   "metadata": {
    "collapsed": false
   },
   "id": "e090accf1bc87f0b"
  },
  {
   "cell_type": "code",
   "execution_count": null,
   "outputs": [],
   "source": [
    "!update-alternatives --install /usr/bin/python3 python3 /usr/bin/python3.8 1"
   ],
   "metadata": {
    "collapsed": false
   },
   "id": "444477094a7b757b"
  },
  {
   "cell_type": "code",
   "execution_count": null,
   "outputs": [],
   "source": [
    "!update-alternatives --config python3"
   ],
   "metadata": {
    "collapsed": false
   },
   "id": "9126b0f47bf36142"
  },
  {
   "cell_type": "code",
   "execution_count": null,
   "outputs": [],
   "source": [
    "!apt-get install python3-pip\n",
    "!python3 -m pip install --upgrade pip --user"
   ],
   "metadata": {
    "collapsed": false
   },
   "id": "15fd8f91c7e928ee"
  },
  {
   "cell_type": "markdown",
   "source": [
    "# Setup config file:\n",
    "\n",
    "## Cài đặt Data\n",
    "- Sẽ có 2 cặp file: \n",
    "    - File Train:\n",
    "        - file tiếng Việt đổi tên thành train2023.vi\n",
    "        - file tiếng Lao đổi tn thành train2023.lo\n",
    "    - File Dev:\n",
    "        - file tiêng Việt đổi tên thành tst2023.vi\n",
    "        - file tiêng Lào đổi tên thành tst2023.vi\n",
    "- Đẩy lên trên Drive trong thư mục của Project, đặt vào trong:\n",
    "    - File Train: đặt vào trong thư mục `data/Train/`\n",
    "    - File Train: đặt vào trong thư mục `data/Dev/`\n",
    "\n",
    "## Cài Đặt file config\n",
    "- File config sẽ trông như sau:\n",
    "    - Có 2 mục phải lưu ý là:\n",
    "        - train_data_location:\n",
    "        - eval_data_location:\n",
    "```yml\n",
    "# data location and config section\n",
    "data:\n",
    "  train_data_location: data/Train/train2023 # bro phải add cái file train data lên Project trên Drive rồi add cái Part vào đây\n",
    "  eval_data_location:  data/Dev/tst2023 # bro phải add cái file dev data lên Project trên Drive rồi add cái Part vào đây\n",
    "  src_lang: .lo\n",
    "  trg_lang: .vi \n",
    "log_file_models: 'model.log'\n",
    "lowercase: false\n",
    "build_vocab_kwargs: # additional arguments for build_vocab. See torchtext.vocab.Vocab for mode details\n",
    "#  max_size: 50000\n",
    "  min_freq: 5\n",
    "# model parameters section\n",
    "device: cuda\n",
    "d_model: 512\n",
    "n_layers: 6\n",
    "heads: 8\n",
    "# inference section\n",
    "eval_batch_size: 8\n",
    "decode_strategy: BeamSearch\n",
    "decode_strategy_kwargs:\n",
    "  beam_size: 5 # beam search size\n",
    "  length_normalize: 0.6 # recalculate beam position by length. Currently only work in default BeamSearch\n",
    "  replace_unk: # tuple of layer/head attention to replace unknown words\n",
    "    - 0 # layer\n",
    "    - 0 # head\n",
    "input_max_length: 200 # input longer than this value will be trimmed in inference. Note that this values are to be used during cached PE, hence, validation set with more than this much tokens will call a warning for the trimming.\n",
    "max_length: 160 # only perform up to this much timestep during inference\n",
    "train_max_length: 50 # training samples with this much length in src/trg will be discarded\n",
    "# optimizer and learning arguments section\n",
    "lr: 0.2\n",
    "optimizer: AdaBelief #Adam or AdaBelief\n",
    "optimizer_params:\n",
    "  betas:\n",
    "    - 0.9 # beta1\n",
    "    - 0.98 # beta2\n",
    "  eps: !!float 1e-9\n",
    "n_warmup_steps: 4000\n",
    "label_smoothing: 0.1\n",
    "dropout: 0.1\n",
    "# training config, evaluation, save & load section\n",
    "batch_size: 64\n",
    "epochs: 40\n",
    "printevery: 200\n",
    "save_checkpoint_epochs: 1\n",
    "maximum_saved_model_eval: 5\n",
    "maximum_saved_model_train: 5\n",
    "```"
   ],
   "metadata": {
    "collapsed": false
   },
   "id": "b1cef2ce3365f794"
  },
  {
   "cell_type": "code",
   "execution_count": null,
   "outputs": [],
   "source": [
    "from google.colab import drive\n",
    "drive.mount('/content/drive')"
   ],
   "metadata": {
    "collapsed": false
   },
   "id": "cfab5ed452b3bfa1"
  },
  {
   "cell_type": "markdown",
   "source": [
    "%PATH_TO_KC4.0_ON_DRIVE% : path trên drive (từng cái folder đằng sau cáy My Drive)\n",
    "- là '' nếu để cái Project ở ngay ngoài root"
   ],
   "metadata": {
    "collapsed": false
   },
   "id": "2714a0133040f5dc"
  },
  {
   "cell_type": "code",
   "execution_count": null,
   "outputs": [],
   "source": [
    "!cd /content/drive/MyDrive/%PATH_TO_KC4.0_ON_DRIVE%/KC4.0_MultilingualNMT"
   ],
   "metadata": {
    "collapsed": false
   },
   "id": "6ac2482ce4ce6a3a"
  },
  {
   "cell_type": "code",
   "execution_count": 3,
   "outputs": [
    {
     "name": "stdout",
     "output_type": "stream",
     "text": [
      "Requirement already satisfied: torch~=2.1.1 in c:\\users\\ethni\\.conda\\envs\\nlpproject\\lib\\site-packages (from -r requirements.txt (line 1)) (2.1.1)\n",
      "Requirement already satisfied: nltk~=3.8.1 in c:\\users\\ethni\\.conda\\envs\\nlpproject\\lib\\site-packages (from -r requirements.txt (line 2)) (3.8.1)\n",
      "Requirement already satisfied: torchtext==0.6.0 in c:\\users\\ethni\\.conda\\envs\\nlpproject\\lib\\site-packages (from -r requirements.txt (line 3)) (0.6.0)\n",
      "Requirement already satisfied: pyvi in c:\\users\\ethni\\.conda\\envs\\nlpproject\\lib\\site-packages (from -r requirements.txt (line 4)) (0.1.1)\n",
      "Requirement already satisfied: spacy in c:\\users\\ethni\\.conda\\envs\\nlpproject\\lib\\site-packages (from -r requirements.txt (line 5)) (3.7.2)\n",
      "Requirement already satisfied: PyYAML==5.4.1 in c:\\users\\ethni\\.conda\\envs\\nlpproject\\lib\\site-packages (from -r requirements.txt (line 6)) (5.4.1)\n",
      "Requirement already satisfied: dill~=0.3.7 in c:\\users\\ethni\\.conda\\envs\\nlpproject\\lib\\site-packages (from -r requirements.txt (line 7)) (0.3.7)\n",
      "Requirement already satisfied: pandas~=2.0.3 in c:\\users\\ethni\\.conda\\envs\\nlpproject\\lib\\site-packages (from -r requirements.txt (line 8)) (2.0.3)\n",
      "Requirement already satisfied: numpy~=1.24.4 in c:\\users\\ethni\\.conda\\envs\\nlpproject\\lib\\site-packages (from -r requirements.txt (line 9)) (1.24.4)\n",
      "Requirement already satisfied: tqdm in c:\\users\\ethni\\.conda\\envs\\nlpproject\\lib\\site-packages (from torchtext==0.6.0->-r requirements.txt (line 3)) (4.66.1)\n",
      "Requirement already satisfied: requests in c:\\users\\ethni\\.conda\\envs\\nlpproject\\lib\\site-packages (from torchtext==0.6.0->-r requirements.txt (line 3)) (2.31.0)\n",
      "Requirement already satisfied: six in c:\\users\\ethni\\.conda\\envs\\nlpproject\\lib\\site-packages (from torchtext==0.6.0->-r requirements.txt (line 3)) (1.16.0)\n",
      "Requirement already satisfied: sentencepiece in c:\\users\\ethni\\.conda\\envs\\nlpproject\\lib\\site-packages (from torchtext==0.6.0->-r requirements.txt (line 3)) (0.1.99)\n",
      "Requirement already satisfied: filelock in c:\\users\\ethni\\.conda\\envs\\nlpproject\\lib\\site-packages (from torch~=2.1.1->-r requirements.txt (line 1)) (3.13.1)\n",
      "Requirement already satisfied: typing-extensions in c:\\users\\ethni\\.conda\\envs\\nlpproject\\lib\\site-packages (from torch~=2.1.1->-r requirements.txt (line 1)) (4.8.0)\n",
      "Requirement already satisfied: sympy in c:\\users\\ethni\\.conda\\envs\\nlpproject\\lib\\site-packages (from torch~=2.1.1->-r requirements.txt (line 1)) (1.12)\n",
      "Requirement already satisfied: networkx in c:\\users\\ethni\\.conda\\envs\\nlpproject\\lib\\site-packages (from torch~=2.1.1->-r requirements.txt (line 1)) (3.1)\n",
      "Requirement already satisfied: jinja2 in c:\\users\\ethni\\.conda\\envs\\nlpproject\\lib\\site-packages (from torch~=2.1.1->-r requirements.txt (line 1)) (3.1.2)\n",
      "Requirement already satisfied: fsspec in c:\\users\\ethni\\.conda\\envs\\nlpproject\\lib\\site-packages (from torch~=2.1.1->-r requirements.txt (line 1)) (2023.10.0)\n",
      "Requirement already satisfied: click in c:\\users\\ethni\\.conda\\envs\\nlpproject\\lib\\site-packages (from nltk~=3.8.1->-r requirements.txt (line 2)) (8.1.7)\n",
      "Requirement already satisfied: joblib in c:\\users\\ethni\\.conda\\envs\\nlpproject\\lib\\site-packages (from nltk~=3.8.1->-r requirements.txt (line 2)) (1.3.2)\n",
      "Requirement already satisfied: regex>=2021.8.3 in c:\\users\\ethni\\.conda\\envs\\nlpproject\\lib\\site-packages (from nltk~=3.8.1->-r requirements.txt (line 2)) (2023.10.3)\n",
      "Requirement already satisfied: scikit-learn in c:\\users\\ethni\\.conda\\envs\\nlpproject\\lib\\site-packages (from pyvi->-r requirements.txt (line 4)) (1.3.2)\n",
      "Requirement already satisfied: sklearn-crfsuite in c:\\users\\ethni\\.conda\\envs\\nlpproject\\lib\\site-packages (from pyvi->-r requirements.txt (line 4)) (0.3.6)\n",
      "Requirement already satisfied: spacy-legacy<3.1.0,>=3.0.11 in c:\\users\\ethni\\.conda\\envs\\nlpproject\\lib\\site-packages (from spacy->-r requirements.txt (line 5)) (3.0.12)\n",
      "Requirement already satisfied: spacy-loggers<2.0.0,>=1.0.0 in c:\\users\\ethni\\.conda\\envs\\nlpproject\\lib\\site-packages (from spacy->-r requirements.txt (line 5)) (1.0.5)\n",
      "Requirement already satisfied: murmurhash<1.1.0,>=0.28.0 in c:\\users\\ethni\\.conda\\envs\\nlpproject\\lib\\site-packages (from spacy->-r requirements.txt (line 5)) (1.0.10)\n",
      "Requirement already satisfied: cymem<2.1.0,>=2.0.2 in c:\\users\\ethni\\.conda\\envs\\nlpproject\\lib\\site-packages (from spacy->-r requirements.txt (line 5)) (2.0.8)\n",
      "Requirement already satisfied: preshed<3.1.0,>=3.0.2 in c:\\users\\ethni\\.conda\\envs\\nlpproject\\lib\\site-packages (from spacy->-r requirements.txt (line 5)) (3.0.9)\n",
      "Requirement already satisfied: thinc<8.3.0,>=8.1.8 in c:\\users\\ethni\\.conda\\envs\\nlpproject\\lib\\site-packages (from spacy->-r requirements.txt (line 5)) (8.2.1)\n",
      "Requirement already satisfied: wasabi<1.2.0,>=0.9.1 in c:\\users\\ethni\\.conda\\envs\\nlpproject\\lib\\site-packages (from spacy->-r requirements.txt (line 5)) (1.1.2)\n",
      "Requirement already satisfied: srsly<3.0.0,>=2.4.3 in c:\\users\\ethni\\.conda\\envs\\nlpproject\\lib\\site-packages (from spacy->-r requirements.txt (line 5)) (2.4.8)\n",
      "Requirement already satisfied: catalogue<2.1.0,>=2.0.6 in c:\\users\\ethni\\.conda\\envs\\nlpproject\\lib\\site-packages (from spacy->-r requirements.txt (line 5)) (2.0.10)\n",
      "Requirement already satisfied: weasel<0.4.0,>=0.1.0 in c:\\users\\ethni\\.conda\\envs\\nlpproject\\lib\\site-packages (from spacy->-r requirements.txt (line 5)) (0.3.4)\n",
      "Requirement already satisfied: typer<0.10.0,>=0.3.0 in c:\\users\\ethni\\.conda\\envs\\nlpproject\\lib\\site-packages (from spacy->-r requirements.txt (line 5)) (0.9.0)\n",
      "Requirement already satisfied: smart-open<7.0.0,>=5.2.1 in c:\\users\\ethni\\.conda\\envs\\nlpproject\\lib\\site-packages (from spacy->-r requirements.txt (line 5)) (6.4.0)\n",
      "Requirement already satisfied: pydantic!=1.8,!=1.8.1,<3.0.0,>=1.7.4 in c:\\users\\ethni\\.conda\\envs\\nlpproject\\lib\\site-packages (from spacy->-r requirements.txt (line 5)) (2.5.2)\n",
      "Requirement already satisfied: setuptools in c:\\users\\ethni\\.conda\\envs\\nlpproject\\lib\\site-packages (from spacy->-r requirements.txt (line 5)) (68.0.0)\n",
      "Requirement already satisfied: packaging>=20.0 in c:\\users\\ethni\\.conda\\envs\\nlpproject\\lib\\site-packages (from spacy->-r requirements.txt (line 5)) (23.2)\n",
      "Requirement already satisfied: langcodes<4.0.0,>=3.2.0 in c:\\users\\ethni\\.conda\\envs\\nlpproject\\lib\\site-packages (from spacy->-r requirements.txt (line 5)) (3.3.0)\n",
      "Requirement already satisfied: python-dateutil>=2.8.2 in c:\\users\\ethni\\.conda\\envs\\nlpproject\\lib\\site-packages (from pandas~=2.0.3->-r requirements.txt (line 8)) (2.8.2)\n",
      "Requirement already satisfied: pytz>=2020.1 in c:\\users\\ethni\\.conda\\envs\\nlpproject\\lib\\site-packages (from pandas~=2.0.3->-r requirements.txt (line 8)) (2023.3.post1)\n",
      "Requirement already satisfied: tzdata>=2022.1 in c:\\users\\ethni\\.conda\\envs\\nlpproject\\lib\\site-packages (from pandas~=2.0.3->-r requirements.txt (line 8)) (2023.3)\n",
      "Requirement already satisfied: annotated-types>=0.4.0 in c:\\users\\ethni\\.conda\\envs\\nlpproject\\lib\\site-packages (from pydantic!=1.8,!=1.8.1,<3.0.0,>=1.7.4->spacy->-r requirements.txt (line 5)) (0.6.0)\n",
      "Requirement already satisfied: pydantic-core==2.14.5 in c:\\users\\ethni\\.conda\\envs\\nlpproject\\lib\\site-packages (from pydantic!=1.8,!=1.8.1,<3.0.0,>=1.7.4->spacy->-r requirements.txt (line 5)) (2.14.5)\n",
      "Requirement already satisfied: charset-normalizer<4,>=2 in c:\\users\\ethni\\.conda\\envs\\nlpproject\\lib\\site-packages (from requests->torchtext==0.6.0->-r requirements.txt (line 3)) (3.3.2)\n",
      "Requirement already satisfied: idna<4,>=2.5 in c:\\users\\ethni\\.conda\\envs\\nlpproject\\lib\\site-packages (from requests->torchtext==0.6.0->-r requirements.txt (line 3)) (3.4)\n",
      "Requirement already satisfied: urllib3<3,>=1.21.1 in c:\\users\\ethni\\.conda\\envs\\nlpproject\\lib\\site-packages (from requests->torchtext==0.6.0->-r requirements.txt (line 3)) (2.1.0)\n",
      "Requirement already satisfied: certifi>=2017.4.17 in c:\\users\\ethni\\.conda\\envs\\nlpproject\\lib\\site-packages (from requests->torchtext==0.6.0->-r requirements.txt (line 3)) (2023.11.17)\n",
      "Requirement already satisfied: blis<0.8.0,>=0.7.8 in c:\\users\\ethni\\.conda\\envs\\nlpproject\\lib\\site-packages (from thinc<8.3.0,>=8.1.8->spacy->-r requirements.txt (line 5)) (0.7.11)\n",
      "Requirement already satisfied: confection<1.0.0,>=0.0.1 in c:\\users\\ethni\\.conda\\envs\\nlpproject\\lib\\site-packages (from thinc<8.3.0,>=8.1.8->spacy->-r requirements.txt (line 5)) (0.1.3)\n",
      "Requirement already satisfied: colorama in c:\\users\\ethni\\.conda\\envs\\nlpproject\\lib\\site-packages (from tqdm->torchtext==0.6.0->-r requirements.txt (line 3)) (0.4.6)\n",
      "Requirement already satisfied: cloudpathlib<0.17.0,>=0.7.0 in c:\\users\\ethni\\.conda\\envs\\nlpproject\\lib\\site-packages (from weasel<0.4.0,>=0.1.0->spacy->-r requirements.txt (line 5)) (0.16.0)\n",
      "Requirement already satisfied: MarkupSafe>=2.0 in c:\\users\\ethni\\.conda\\envs\\nlpproject\\lib\\site-packages (from jinja2->torch~=2.1.1->-r requirements.txt (line 1)) (2.1.3)\n",
      "Requirement already satisfied: scipy>=1.5.0 in c:\\users\\ethni\\.conda\\envs\\nlpproject\\lib\\site-packages (from scikit-learn->pyvi->-r requirements.txt (line 4)) (1.10.1)\n",
      "Requirement already satisfied: threadpoolctl>=2.0.0 in c:\\users\\ethni\\.conda\\envs\\nlpproject\\lib\\site-packages (from scikit-learn->pyvi->-r requirements.txt (line 4)) (3.2.0)\n",
      "Requirement already satisfied: python-crfsuite>=0.8.3 in c:\\users\\ethni\\.conda\\envs\\nlpproject\\lib\\site-packages (from sklearn-crfsuite->pyvi->-r requirements.txt (line 4)) (0.9.9)\n",
      "Requirement already satisfied: tabulate in c:\\users\\ethni\\.conda\\envs\\nlpproject\\lib\\site-packages (from sklearn-crfsuite->pyvi->-r requirements.txt (line 4)) (0.9.0)\n",
      "Requirement already satisfied: mpmath>=0.19 in c:\\users\\ethni\\.conda\\envs\\nlpproject\\lib\\site-packages (from sympy->torch~=2.1.1->-r requirements.txt (line 1)) (1.3.0)\n"
     ]
    }
   ],
   "source": [
    "!pip install -r requirements.txt"
   ],
   "metadata": {
    "collapsed": false,
    "ExecuteTime": {
     "start_time": "2023-12-01T15:49:53.477248800Z"
    }
   },
   "id": "initial_id"
  },
  {
   "cell_type": "code",
   "execution_count": 4,
   "outputs": [
    {
     "name": "stderr",
     "output_type": "stream",
     "text": [
      "Traceback (most recent call last):\n",
      "  File \"<frozen runpy>\", line 189, in _run_module_as_main\n",
      "  File \"<frozen runpy>\", line 112, in _get_module_details\n",
      "  File \"L:\\KC4.0_MultilingualNMT\\bin\\__init__.py\", line 1, in <module>\n",
      "    import bin.main as main\n",
      "  File \"L:\\KC4.0_MultilingualNMT\\bin\\main.py\", line 5, in <module>\n",
      "    import models\n",
      "  File \"L:\\KC4.0_MultilingualNMT\\models\\__init__.py\", line 2, in <module>\n",
      "    from models.transformer import Transformer\n",
      "  File \"L:\\KC4.0_MultilingualNMT\\models\\transformer.py\", line 1, in <module>\n",
      "    import torch\n",
      "ModuleNotFoundError: No module named 'torch'\n"
     ]
    }
   ],
   "source": [
    "!python -m bin.main train --model Transformer --model_dir my_model/en-vi.model --config config/bilingual_prototype.yml"
   ],
   "metadata": {
    "collapsed": false,
    "ExecuteTime": {
     "end_time": "2023-12-01T15:49:58.850249800Z",
     "start_time": "2023-12-01T15:49:58.661247600Z"
    }
   },
   "id": "89cda109230aef67"
  },
  {
   "cell_type": "code",
   "execution_count": 4,
   "outputs": [],
   "source": [],
   "metadata": {
    "collapsed": false,
    "ExecuteTime": {
     "end_time": "2023-12-01T15:49:58.909243900Z",
     "start_time": "2023-12-01T15:49:58.853257Z"
    }
   },
   "id": "198ec50393f199d5"
  }
 ],
 "metadata": {
  "kernelspec": {
   "display_name": "Python 3",
   "language": "python",
   "name": "python3"
  },
  "language_info": {
   "codemirror_mode": {
    "name": "ipython",
    "version": 2
   },
   "file_extension": ".py",
   "mimetype": "text/x-python",
   "name": "python",
   "nbconvert_exporter": "python",
   "pygments_lexer": "ipython2",
   "version": "2.7.6"
  }
 },
 "nbformat": 4,
 "nbformat_minor": 5
}
